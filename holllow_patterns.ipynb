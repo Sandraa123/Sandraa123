{
  "nbformat": 4,
  "nbformat_minor": 0,
  "metadata": {
    "colab": {
      "provenance": [],
      "authorship_tag": "ABX9TyMD117C0ODyTc4NcE35ZDfT",
      "include_colab_link": true
    },
    "kernelspec": {
      "name": "python3",
      "display_name": "Python 3"
    },
    "language_info": {
      "name": "python"
    }
  },
  "cells": [
    {
      "cell_type": "markdown",
      "metadata": {
        "id": "view-in-github",
        "colab_type": "text"
      },
      "source": [
        "<a href=\"https://colab.research.google.com/github/Sandraa123/python-patterns/blob/main/holllow_patterns.ipynb\" target=\"_parent\"><img src=\"https://colab.research.google.com/assets/colab-badge.svg\" alt=\"Open In Colab\"/></a>"
      ]
    },
    {
      "cell_type": "code",
      "execution_count": null,
      "metadata": {
        "colab": {
          "base_uri": "https://localhost:8080/"
        },
        "id": "l-6JxbDD5T2q",
        "outputId": "07dbf98e-a4c3-467b-d333-3d989ffcc667"
      },
      "outputs": [
        {
          "output_type": "stream",
          "name": "stdout",
          "text": [
            "      *       \n",
            "    *   *     \n",
            "  *       *   \n",
            "*           * \n",
            "  *       *   \n",
            "    *   *     \n",
            "      *       \n"
          ]
        }
      ],
      "source": [
        "for i in range(0,7):\n",
        "  for j in range(0,7):\n",
        "    if (i+j==3) or (j-i==3) or(i+j==9)or(i-j==3):\n",
        "      print('*',end=' ')\n",
        "    else:\n",
        "      print(' ',end=' ')\n",
        "  print()"
      ]
    },
    {
      "cell_type": "code",
      "source": [
        "n=8\n",
        "for i in range(1,n+1):\n",
        "  for j in range(1,n+1):\n",
        "    if i==1 or i==n or j==1 or j==n:\n",
        "      print('*',end=' ')\n",
        "    else:\n",
        "      print(' ',end=' ')\n",
        "  print()"
      ],
      "metadata": {
        "colab": {
          "base_uri": "https://localhost:8080/"
        },
        "id": "VgdycqbXedGs",
        "outputId": "651822ab-8934-40a5-9fdc-a7f7f3bf8bce"
      },
      "execution_count": null,
      "outputs": [
        {
          "output_type": "stream",
          "name": "stdout",
          "text": [
            "* * * * * * * * \n",
            "*             * \n",
            "*             * \n",
            "*             * \n",
            "*             * \n",
            "*             * \n",
            "*             * \n",
            "* * * * * * * * \n"
          ]
        }
      ]
    },
    {
      "cell_type": "code",
      "source": [
        "for i in range(0,5):\n",
        "  for j in range(0,5):\n",
        "    if i==4 or j==0 or i==j:\n",
        "      print('*',end=' ')\n",
        "    else:\n",
        "      print(' ',end=' ')\n",
        "  print()\n"
      ],
      "metadata": {
        "colab": {
          "base_uri": "https://localhost:8080/"
        },
        "id": "4-yDyy9N-JuG",
        "outputId": "d59d165d-d57a-4ca3-9f32-c2c30ae5d65b"
      },
      "execution_count": null,
      "outputs": [
        {
          "output_type": "stream",
          "name": "stdout",
          "text": [
            "*         \n",
            "* *       \n",
            "*   *     \n",
            "*     *   \n",
            "* * * * * \n"
          ]
        }
      ]
    },
    {
      "cell_type": "code",
      "source": [
        "n=5\n",
        "for i in range(0,n):\n",
        "  for j  in range(0,n):\n",
        "    if i==4 or j==4 or i+j==4:\n",
        "      print('*',end=' ')\n",
        "    else:\n",
        "      print(' ',end=' ')\n",
        "  print()"
      ],
      "metadata": {
        "colab": {
          "base_uri": "https://localhost:8080/"
        },
        "id": "4i8hYIuu_URe",
        "outputId": "5f6617e2-a5aa-4b5e-baf7-2b11041fa77b"
      },
      "execution_count": null,
      "outputs": [
        {
          "output_type": "stream",
          "name": "stdout",
          "text": [
            "        * \n",
            "      * * \n",
            "    *   * \n",
            "  *     * \n",
            "* * * * * \n"
          ]
        }
      ]
    },
    {
      "cell_type": "code",
      "source": [
        "n=5\n",
        "for i in range(0,n):\n",
        "  for j in range(0,n):\n",
        "    if i==j or i+j==4:\n",
        "      print('*',end=' ')\n",
        "    else:\n",
        "      print(' ',end=' ')\n",
        "  print()"
      ],
      "metadata": {
        "colab": {
          "base_uri": "https://localhost:8080/"
        },
        "id": "vXyAFpl8_VcI",
        "outputId": "708cbddd-3ba0-4d01-ad1b-ce130c364ba4"
      },
      "execution_count": null,
      "outputs": [
        {
          "output_type": "stream",
          "name": "stdout",
          "text": [
            "*       * \n",
            "  *   *   \n",
            "    *     \n",
            "  *   *   \n",
            "*       * \n"
          ]
        }
      ]
    },
    {
      "cell_type": "code",
      "source": [
        "for i in range(0,4):\n",
        "  for j in range(0,7):\n",
        "    if i+j==3 or i==3 or j-i==3:\n",
        "      print('*',end=' ')\n",
        "    else:\n",
        "      print(' ',end=' ')\n",
        "  print()"
      ],
      "metadata": {
        "colab": {
          "base_uri": "https://localhost:8080/"
        },
        "id": "Xc20N1Qr_VeC",
        "outputId": "3a3f6e89-9034-4366-80a9-4dd6a9dc29b8"
      },
      "execution_count": null,
      "outputs": [
        {
          "output_type": "stream",
          "name": "stdout",
          "text": [
            "      *       \n",
            "    *   *     \n",
            "  *       *   \n",
            "* * * * * * * \n"
          ]
        }
      ]
    },
    {
      "cell_type": "code",
      "source": [],
      "metadata": {
        "id": "Y4h9PDzO_Yez"
      },
      "execution_count": null,
      "outputs": []
    }
  ]
}